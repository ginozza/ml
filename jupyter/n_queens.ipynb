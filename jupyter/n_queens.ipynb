{
  "nbformat": 4,
  "nbformat_minor": 0,
  "metadata": {
    "colab": {
      "provenance": []
    },
    "kernelspec": {
      "name": "python3",
      "display_name": "Python 3"
    },
    "language_info": {
      "name": "python"
    }
  },
  "cells": [
    {
      "cell_type": "markdown",
      "source": [
        "### **DFS traversal**\n",
        "\n",
        "This code uses backtracking to solve the N-Queens problem. It employs a Depth-First Search (DFS) to find a valid arrangement of queens on an N x N board by checking if each new queen's position is safe from attacks.\n",
        "\n"
      ],
      "metadata": {
        "id": "mX3QruPf8u1y"
      }
    },
    {
      "cell_type": "code",
      "execution_count": 17,
      "metadata": {
        "id": "BSbsw5S0ifDQ"
      },
      "outputs": [],
      "source": [
        "class Node:\n",
        "  def __init__(self, status, level=0):\n",
        "    self.status = status\n",
        "    self.level = level\n",
        "    self.childs = []"
      ]
    },
    {
      "cell_type": "code",
      "source": [
        "def is_valid(status):\n",
        "    \"\"\"Verify that the status doesn't have queens attacking themselves\"\"\"\n",
        "    n = len(status)\n",
        "    for i in range(n):\n",
        "      for j in range(i + 1, n):\n",
        "        if status[i] == status[j]:\n",
        "          return False\n",
        "        if abs(status[i] - status[j]) == abs(i -j):\n",
        "          return False\n",
        "    return True"
      ],
      "metadata": {
        "id": "ZUR2yzWRnylA"
      },
      "execution_count": 18,
      "outputs": []
    },
    {
      "cell_type": "code",
      "source": [
        "def expand(node, n):\n",
        "  \"\"\"Generates childs movin the queen in the next column\"\"\"\n",
        "  col = node.level\n",
        "  if col >= n:\n",
        "    return []\n",
        "  childs = []\n",
        "  for row in range(n):\n",
        "    new_status = node.status + [row]\n",
        "    if is_valid(new_status):\n",
        "      child = Node(new_status, node.level + 1)\n",
        "      childs.append(child)\n",
        "  node.childs = childs\n",
        "  return childs"
      ],
      "metadata": {
        "id": "nOU7M41mzsBs"
      },
      "execution_count": 19,
      "outputs": []
    },
    {
      "cell_type": "code",
      "source": [
        "def dfs(n, node):\n",
        "  \"\"\"Search in depth until finds a solution\"\"\"\n",
        "  if node.level == n:\n",
        "    return node.status\n",
        "  for child in expand(node, n):\n",
        "    solution = dfs(n, child)\n",
        "    if solution:\n",
        "      return solution\n",
        "  return None"
      ],
      "metadata": {
        "id": "aOq3ml6R2ayX"
      },
      "execution_count": 20,
      "outputs": []
    },
    {
      "cell_type": "code",
      "source": [
        "n = 4\n",
        "root = Node([])\n",
        "solution = dfs(n, root)\n",
        "print(\"Solucion para\", n, \"reinas:\", solution)"
      ],
      "metadata": {
        "colab": {
          "base_uri": "https://localhost:8080/"
        },
        "id": "TwZgtE4p49-U",
        "outputId": "91351f84-7e83-404d-9afb-fb54a6ad0588"
      },
      "execution_count": 28,
      "outputs": [
        {
          "output_type": "stream",
          "name": "stdout",
          "text": [
            "Solucion para 4 reinas: [1, 3, 0, 2]\n"
          ]
        }
      ]
    },
    {
      "cell_type": "markdown",
      "source": [
        "### **BFS traversal**\n",
        "\n",
        "This code uses breadth-first search (BFS) to solve the N-Queens problem, exploring possible queen positions level by level to find a valid solution."
      ],
      "metadata": {
        "id": "PdgtkWI6_5B4"
      }
    },
    {
      "cell_type": "code",
      "source": [
        "from collections import deque"
      ],
      "metadata": {
        "id": "Lp_eWPDpBoRa"
      },
      "execution_count": 30,
      "outputs": []
    },
    {
      "cell_type": "code",
      "source": [
        "class Node:\n",
        "  def __init__(self, status, level=0):\n",
        "    self.status = status\n",
        "    self.level = level"
      ],
      "metadata": {
        "id": "8tFCuzF9Bq6k"
      },
      "execution_count": 31,
      "outputs": []
    },
    {
      "cell_type": "code",
      "source": [
        "  def is_valid(status):\n",
        "    \"\"\"Verify that the status doesn't have queens attacking themselves\"\"\"\n",
        "    n = len(status)\n",
        "    for i in range(n):\n",
        "      for j in range(i + 1, n):\n",
        "        if status[i] == status[j]:\n",
        "          return False\n",
        "        if abs(status[i] - status[j]) == abs(i - j):\n",
        "          return False\n",
        "    return True"
      ],
      "metadata": {
        "id": "-sHe2tI8CaJ1"
      },
      "execution_count": 33,
      "outputs": []
    },
    {
      "cell_type": "code",
      "source": [
        "    def bfs(n):\n",
        "      \"\"\"Search in breadth until finds a solution\"\"\"\n",
        "      queue = deque([Node([])])\n",
        "\n",
        "      while queue:\n",
        "        node = queue.popleft()\n",
        "\n",
        "        if node.level == n:\n",
        "          return node.status\n",
        "\n",
        "        col = node.level\n",
        "        for row in range(n):\n",
        "          new_status = node.status + [row]\n",
        "          if is_valid(new_status):\n",
        "            queue.append(Node(new_status, node.level + 1))\n",
        "\n",
        "      return None"
      ],
      "metadata": {
        "id": "9kXcwgQwCaew"
      },
      "execution_count": 36,
      "outputs": []
    },
    {
      "cell_type": "code",
      "source": [
        "n = 4\n",
        "solution = bfs(n)\n",
        "print(\"Solucion para\", n, \"reinas:\", solution)"
      ],
      "metadata": {
        "colab": {
          "base_uri": "https://localhost:8080/"
        },
        "id": "l1Gj5p-qD2q-",
        "outputId": "475a536e-4f46-4a9f-e0bb-b34874ca5fef"
      },
      "execution_count": 37,
      "outputs": [
        {
          "output_type": "stream",
          "name": "stdout",
          "text": [
            "Solucion para 4 reinas: [1, 3, 0, 2]\n"
          ]
        }
      ]
    }
  ]
}